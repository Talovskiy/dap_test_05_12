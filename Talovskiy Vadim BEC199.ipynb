{
 "cells": [
  {
   "cell_type": "markdown",
   "metadata": {},
   "source": [
    "# Самостоятельная работа 05.12.2020"
   ]
  },
  {
   "cell_type": "markdown",
   "metadata": {},
   "source": [
    "## numpy"
   ]
  },
  {
   "cell_type": "markdown",
   "metadata": {},
   "source": [
    "### Задача 0.1\n",
    "\n",
    "Напишите следующую функцию:\n",
    "\n",
    "На вход функции приходит матрица из булевых значения (`True` / `False`). Верните `True`, если в каждом столбце есть хотя бы одна `True`."
   ]
  },
  {
   "cell_type": "code",
   "execution_count": 19,
   "metadata": {},
   "outputs": [],
   "source": [
    "def columnwise_any_then_all(matrix):\n",
    "    return True"
   ]
  },
  {
   "cell_type": "markdown",
   "metadata": {},
   "source": [
    "### Задача 0.2\n",
    "\n",
    "Напишите функцию, которая вернет индекс первого элемента, который больше нуля. Предполагайте, что положительный элемент всегда существует."
   ]
  },
  {
   "cell_type": "code",
   "execution_count": 20,
   "metadata": {},
   "outputs": [],
   "source": [
    "def where_the_first_positive(array):\n",
    "    return 0\n"
   ]
  },
  {
   "cell_type": "code",
   "execution_count": 21,
   "metadata": {},
   "outputs": [
    {
     "name": "stdout",
     "output_type": "stream",
     "text": [
      "1\n",
      "2\n",
      "23\n",
      "4\n",
      "5\n",
      "6\n",
      "7\n",
      "8\n",
      "9\n",
      "0\n",
      "2\n"
     ]
    }
   ],
   "source": [
    "number = int(input())\n",
    "maximum = i = 0\n",
    "while number != 0:\n",
    "    if number > maximum:\n",
    "        maximum = number\n",
    "        index = i\n",
    "    elif number == maximum:\n",
    "        continue\n",
    "    i += 1\n",
    "    number = int(input())\n",
    "print(index)"
   ]
  },
  {
   "cell_type": "markdown",
   "metadata": {},
   "source": [
    "### Задача 0.3\n",
    "На вход функции приходит np.array в котором лежат целые числа. Число означает изменение температуры в этот день по сравнению со вчерашним днем. Верните количество дней, когда температура была больше `target`.\n",
    "Стартовая температура равна 10 градусам."
   ]
  },
  {
   "cell_type": "code",
   "execution_count": 22,
   "metadata": {},
   "outputs": [],
   "source": [
    "def warming(temperature_deltas, target):\n",
    "    return 0"
   ]
  },
  {
   "cell_type": "code",
   "execution_count": 23,
   "metadata": {},
   "outputs": [
    {
     "name": "stdout",
     "output_type": "stream",
     "text": [
      ">> 10\n",
      "0\n"
     ]
    }
   ],
   "source": [
    "cnt = 0\n",
    "temp = float(input('>> '))\n",
    "while temp < 10:\n",
    "    cnt += 1\n",
    "    temp = float(input('>> '))\n",
    "print(cnt // 7)"
   ]
  },
  {
   "cell_type": "markdown",
   "metadata": {},
   "source": [
    "## pandas\n",
    "\n",
    "В этой секции будем работать с датасетом, где представлена информация о держателях банковских карт. \n",
    "\n",
    "В данной секции нельзя глазами отсмотреть весь датасет и напечатать ответ на вопрос. Решения задач должны работать с любой подвыборкой и оставаться корректными."
   ]
  },
  {
   "cell_type": "code",
   "execution_count": 14,
   "metadata": {},
   "outputs": [],
   "source": [
    "import pandas as pd\n",
    "from matplotlib import pyplot as plt"
   ]
  },
  {
   "cell_type": "code",
   "execution_count": 13,
   "metadata": {},
   "outputs": [],
   "source": [
    "df = pd.read_csv('credit_card_users.csv')"
   ]
  },
  {
   "cell_type": "markdown",
   "metadata": {},
   "source": [
    "### Задача 1.0\n",
    "Выведете первые 10 строчек в датасете."
   ]
  },
  {
   "cell_type": "code",
   "execution_count": null,
   "metadata": {},
   "outputs": [],
   "source": [
    "df = pd.read_csv('credit_card_users.csv')\n",
    "for x in range(10):\n",
    "    print(x, end = \",\")"
   ]
  },
  {
   "cell_type": "markdown",
   "metadata": {},
   "source": [
    "### Задача 1.1\n",
    "\n",
    "Напиишите код, который поместит в переменную `ans` список из уникальных типов карт, которые представлены в датасете? Колонка: `Card_Category`\n"
   ]
  },
  {
   "cell_type": "code",
   "execution_count": null,
   "metadata": {},
   "outputs": [],
   "source": [
    "df.head()"
   ]
  },
  {
   "cell_type": "markdown",
   "metadata": {},
   "source": [
    "### Задача 1.2\n",
    "\n",
    "Какие максимальные и минимальные лимитные кредиты имеют держатели?\n",
    "В переменную `max_lim` поместите максимальный лимит, в переменную `min_lim` - минимальный."
   ]
  },
  {
   "cell_type": "code",
   "execution_count": null,
   "metadata": {},
   "outputs": [],
   "source": [
    "sum = 0\n",
    "count = 0\n",
    "a = (df = pd.read_csv)\n",
    "min_number = 0\n",
    "max_number = 0\n",
    " \n",
    "while True:\n",
    "    line = input(\"enter the number\")\n",
    "    if line:\n",
    "        number = int(line)\n",
    "        sum += number\n",
    "        count += 1\n",
    "        a.append(number)\n",
    "    else:\n",
    "        break\n",
    "    if number < min_number:\n",
    "        min_number = number\n",
    "    if number > max_number:\n",
    "        max_number = number\n",
    " \n",
    "print(\"number =\", max_lim)\n",
    "print(\"sum = \",sum ,\"count = \",count ,\"mean = \", sum/count, \"min =\" , min_number, \"max =\",max_number)"
   ]
  },
  {
   "cell_type": "markdown",
   "metadata": {},
   "source": [
    "### Задача 1.3\n",
    "\n",
    "Какие максимальные и минимальные лимитные кредиты (`Credit_Limit`) имеют держатели с разными премиальных категориях (`Card_Category`)?\n",
    "\n",
    "Поместите pd.Series с минимальными лимитами в переменную `min_lim`, а максимальные в переменную `max_lim`."
   ]
  },
  {
   "cell_type": "code",
   "execution_count": null,
   "metadata": {},
   "outputs": [],
   "source": []
  },
  {
   "cell_type": "markdown",
   "metadata": {},
   "source": [
    "### Задача 1.4\n",
    "Постройте диаграмму рассеяния, где по оси `x` будет возраст человека, а по `y` его кредитный лимит.\n",
    "\n",
    "Одной-двумя фразами опишите, как будет изменяться кредитный лимит при изменении возраста."
   ]
  },
  {
   "cell_type": "code",
   "execution_count": null,
   "metadata": {},
   "outputs": [],
   "source": []
  },
  {
   "cell_type": "markdown",
   "metadata": {},
   "source": [
    "### Задача 1.5\n",
    "\n",
    "Интересно узнать, как связаны уровни образования и кредитный лимит. Нарисуйте график, где по оси `x` уровни образования, а по `y` средний кредитный лимит в группе.\n",
    "\n",
    "Какой вывод можно сделать? Как связаны уровень образования и лимит?"
   ]
  },
  {
   "cell_type": "code",
   "execution_count": null,
   "metadata": {},
   "outputs": [],
   "source": []
  },
  {
   "cell_type": "markdown",
   "metadata": {},
   "source": [
    "### Задача 1.6\n",
    "\n",
    "\n",
    "Отношение к кредитам может сильно различаться в зависимости от доходов.\n",
    "\n",
    "Предварительно почистите выборку от тех, кто вообще не пользуется кредитной картой.\n",
    "Далее постройте такую величину: среднее использование кредитной карты (`Avg_Utilization_Ratio`) в зависимости от `Income_Category`. Внутри каждой категории доходов необходимо усреднить `Avg_Utilization_Ratio`.\n"
   ]
  },
  {
   "cell_type": "code",
   "execution_count": null,
   "metadata": {},
   "outputs": [],
   "source": []
  }
 ],
 "metadata": {
  "kernelspec": {
   "display_name": "Python 3",
   "language": "python",
   "name": "python3"
  },
  "language_info": {
   "codemirror_mode": {
    "name": "ipython",
    "version": 3
   },
   "file_extension": ".py",
   "mimetype": "text/x-python",
   "name": "python",
   "nbconvert_exporter": "python",
   "pygments_lexer": "ipython3",
   "version": "3.8.3"
  }
 },
 "nbformat": 4,
 "nbformat_minor": 2
}
